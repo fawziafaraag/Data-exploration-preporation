{
  "nbformat": 4,
  "nbformat_minor": 0,
  "metadata": {
    "colab": {
      "provenance": [],
      "authorship_tag": "ABX9TyOdr/df0k8+iK6uDlE9M862",
      "include_colab_link": true
    },
    "kernelspec": {
      "name": "python3",
      "display_name": "Python 3"
    },
    "language_info": {
      "name": "python"
    }
  },
  "cells": [
    {
      "cell_type": "markdown",
      "metadata": {
        "id": "view-in-github",
        "colab_type": "text"
      },
      "source": [
        "<a href=\"https://colab.research.google.com/github/fawziafaraag/Data-exploration-preporation/blob/main/Fawzia_faraag_DEP_Task_5.ipynb\" target=\"_parent\"><img src=\"https://colab.research.google.com/assets/colab-badge.svg\" alt=\"Open In Colab\"/></a>"
      ]
    },
    {
      "cell_type": "code",
      "execution_count": null,
      "metadata": {
        "id": "oRX_22RXcEz0"
      },
      "outputs": [],
      "source": [
        "import pandas as pd"
      ]
    },
    {
      "cell_type": "markdown",
      "metadata": {
        "id": "i0mnN5VYcEz0"
      },
      "source": [
        "Import italy-covid-daywise.Csv which contains day-wise covid-19 data for italy."
      ]
    },
    {
      "cell_type": "code",
      "execution_count": null,
      "metadata": {
        "id": "2WMIOjsrcEz0"
      },
      "outputs": [],
      "source": [
        "FILE_NAME = 'italy-covid-daywise.csv'\n",
        "df = pd.read_csv(filepath_or_buffer=FILE_NAME, sep=',')"
      ]
    },
    {
      "cell_type": "markdown",
      "metadata": {
        "id": "k9zGvGArcEz1"
      },
      "source": [
        "Retrieve the number of rows and columns in the data frame."
      ]
    },
    {
      "cell_type": "code",
      "execution_count": null,
      "metadata": {
        "id": "oqHy4YOocEz1",
        "outputId": "488aca2a-15ef-42b2-dc7d-ec7faa3eba1b"
      },
      "outputs": [
        {
          "name": "stdout",
          "output_type": "stream",
          "text": [
            "[*] Count of Rows: 248\n",
            "[*] Count of Columns: 4\n"
          ]
        }
      ],
      "source": [
        "print(f\"[*] Count of Rows: {df.shape[0]}\\n[*] Count of Columns: {df.shape[1]}\")"
      ]
    },
    {
      "cell_type": "markdown",
      "metadata": {
        "id": "WbYaf33ocEz2"
      },
      "source": [
        "View statistical information for numerical columns."
      ]
    },
    {
      "cell_type": "code",
      "execution_count": null,
      "metadata": {
        "id": "dzfkavZZcEz2",
        "outputId": "319cf694-a8af-45c0-bf8e-6dfa9bcd1cad"
      },
      "outputs": [
        {
          "data": {
            "text/html": [
              "<div>\n",
              "<style scoped>\n",
              "    .dataframe tbody tr th:only-of-type {\n",
              "        vertical-align: middle;\n",
              "    }\n",
              "\n",
              "    .dataframe tbody tr th {\n",
              "        vertical-align: top;\n",
              "    }\n",
              "\n",
              "    .dataframe thead th {\n",
              "        text-align: right;\n",
              "    }\n",
              "</style>\n",
              "<table border=\"1\" class=\"dataframe\">\n",
              "  <thead>\n",
              "    <tr style=\"text-align: right;\">\n",
              "      <th></th>\n",
              "      <th>new_cases</th>\n",
              "      <th>new_deaths</th>\n",
              "      <th>new_tests</th>\n",
              "    </tr>\n",
              "  </thead>\n",
              "  <tbody>\n",
              "    <tr>\n",
              "      <th>count</th>\n",
              "      <td>248.000000</td>\n",
              "      <td>248.000000</td>\n",
              "      <td>135.000000</td>\n",
              "    </tr>\n",
              "    <tr>\n",
              "      <th>mean</th>\n",
              "      <td>1094.818548</td>\n",
              "      <td>143.133065</td>\n",
              "      <td>31699.674074</td>\n",
              "    </tr>\n",
              "    <tr>\n",
              "      <th>std</th>\n",
              "      <td>1554.508002</td>\n",
              "      <td>227.105538</td>\n",
              "      <td>11622.209757</td>\n",
              "    </tr>\n",
              "    <tr>\n",
              "      <th>min</th>\n",
              "      <td>-148.000000</td>\n",
              "      <td>-31.000000</td>\n",
              "      <td>7841.000000</td>\n",
              "    </tr>\n",
              "    <tr>\n",
              "      <th>25%</th>\n",
              "      <td>123.000000</td>\n",
              "      <td>3.000000</td>\n",
              "      <td>25259.000000</td>\n",
              "    </tr>\n",
              "    <tr>\n",
              "      <th>50%</th>\n",
              "      <td>342.000000</td>\n",
              "      <td>17.000000</td>\n",
              "      <td>29545.000000</td>\n",
              "    </tr>\n",
              "    <tr>\n",
              "      <th>75%</th>\n",
              "      <td>1371.750000</td>\n",
              "      <td>175.250000</td>\n",
              "      <td>37711.000000</td>\n",
              "    </tr>\n",
              "    <tr>\n",
              "      <th>max</th>\n",
              "      <td>6557.000000</td>\n",
              "      <td>971.000000</td>\n",
              "      <td>95273.000000</td>\n",
              "    </tr>\n",
              "  </tbody>\n",
              "</table>\n",
              "</div>"
            ],
            "text/plain": [
              "         new_cases  new_deaths     new_tests\n",
              "count   248.000000  248.000000    135.000000\n",
              "mean   1094.818548  143.133065  31699.674074\n",
              "std    1554.508002  227.105538  11622.209757\n",
              "min    -148.000000  -31.000000   7841.000000\n",
              "25%     123.000000    3.000000  25259.000000\n",
              "50%     342.000000   17.000000  29545.000000\n",
              "75%    1371.750000  175.250000  37711.000000\n",
              "max    6557.000000  971.000000  95273.000000"
            ]
          },
          "execution_count": 191,
          "metadata": {},
          "output_type": "execute_result"
        }
      ],
      "source": [
        "df.describe()"
      ]
    },
    {
      "cell_type": "markdown",
      "metadata": {
        "id": "Ulmiu-xecEz3"
      },
      "source": [
        "View some basic information about the data frame like data types, and number of non-nulls."
      ]
    },
    {
      "cell_type": "code",
      "execution_count": null,
      "metadata": {
        "id": "-PE9Os7FcEz3",
        "outputId": "1b8c926a-1670-48e3-d975-461febe33b88"
      },
      "outputs": [
        {
          "data": {
            "text/plain": [
              "date           object\n",
              "new_cases     float64\n",
              "new_deaths    float64\n",
              "new_tests     float64\n",
              "dtype: object"
            ]
          },
          "execution_count": 192,
          "metadata": {},
          "output_type": "execute_result"
        }
      ],
      "source": [
        "df.dtypes"
      ]
    },
    {
      "cell_type": "code",
      "execution_count": null,
      "metadata": {
        "id": "NxlXno9icEz3",
        "outputId": "1e3eec8c-28f9-4efe-f61b-be8c9846349d"
      },
      "outputs": [
        {
          "data": {
            "text/plain": [
              "date          248\n",
              "new_cases     248\n",
              "new_deaths    248\n",
              "new_tests     135\n",
              "dtype: int64"
            ]
          },
          "execution_count": 193,
          "metadata": {},
          "output_type": "execute_result"
        }
      ],
      "source": [
        "df.notna().sum()"
      ]
    },
    {
      "cell_type": "markdown",
      "metadata": {
        "id": "Gz64jQ2McEz3"
      },
      "source": [
        "Create a list of columns within the data frame."
      ]
    },
    {
      "cell_type": "code",
      "execution_count": null,
      "metadata": {
        "id": "61VCrO6XcEz3",
        "outputId": "1248985f-93f7-4165-c827-62b59f1150bf"
      },
      "outputs": [
        {
          "name": "stdout",
          "output_type": "stream",
          "text": [
            "Column 'date' content:\n",
            "['2019-12-31', '2020-01-01', '2020-01-02', '2020-01-03', '2020-01-04', '2020-01-05', '2020-01-06', '2020-01-07', '2020-01-08', '2020-01-09', '2020-01-10', '2020-01-11', '2020-01-12', '2020-01-13', '2020-01-14', '2020-01-15', '2020-01-16', '2020-01-17', '2020-01-18', '2020-01-19', '2020-01-20', '2020-01-21', '2020-01-22', '2020-01-23', '2020-01-24', '2020-01-25', '2020-01-26', '2020-01-27', '2020-01-28', '2020-01-29', '2020-01-30', '2020-01-31', '2020-02-01', '2020-02-02', '2020-02-03', '2020-02-04', '2020-02-05', '2020-02-06', '2020-02-07', '2020-02-08', '2020-02-09', '2020-02-10', '2020-02-11', '2020-02-12', '2020-02-13', '2020-02-14', '2020-02-15', '2020-02-16', '2020-02-17', '2020-02-18', '2020-02-19', '2020-02-20', '2020-02-21', '2020-02-22', '2020-02-23', '2020-02-24', '2020-02-25', '2020-02-26', '2020-02-27', '2020-02-28', '2020-02-29', '2020-03-01', '2020-03-02', '2020-03-03', '2020-03-04', '2020-03-05', '2020-03-06', '2020-03-07', '2020-03-08', '2020-03-09', '2020-03-10', '2020-03-11', '2020-03-12', '2020-03-13', '2020-03-14', '2020-03-15', '2020-03-16', '2020-03-17', '2020-03-18', '2020-03-19', '2020-03-20', '2020-03-21', '2020-03-22', '2020-03-23', '2020-03-24', '2020-03-25', '2020-03-26', '2020-03-27', '2020-03-28', '2020-03-29', '2020-03-30', '2020-03-31', '2020-04-01', '2020-04-02', '2020-04-03', '2020-04-04', '2020-04-05', '2020-04-06', '2020-04-07', '2020-04-08', '2020-04-09', '2020-04-10', '2020-04-11', '2020-04-12', '2020-04-13', '2020-04-14', '2020-04-15', '2020-04-16', '2020-04-17', '2020-04-18', '2020-04-19', '2020-04-20', '2020-04-21', '2020-04-22', '2020-04-23', '2020-04-24', '2020-04-25', '2020-04-26', '2020-04-27', '2020-04-28', '2020-04-29', '2020-04-30', '2020-05-01', '2020-05-02', '2020-05-03', '2020-05-04', '2020-05-05', '2020-05-06', '2020-05-07', '2020-05-08', '2020-05-09', '2020-05-10', '2020-05-11', '2020-05-12', '2020-05-13', '2020-05-14', '2020-05-15', '2020-05-16', '2020-05-17', '2020-05-18', '2020-05-19', '2020-05-20', '2020-05-21', '2020-05-22', '2020-05-23', '2020-05-24', '2020-05-25', '2020-05-26', '2020-05-27', '2020-05-28', '2020-05-29', '2020-05-30', '2020-05-31', '2020-06-01', '2020-06-02', '2020-06-03', '2020-06-04', '2020-06-05', '2020-06-06', '2020-06-07', '2020-06-08', '2020-06-09', '2020-06-10', '2020-06-11', '2020-06-12', '2020-06-13', '2020-06-14', '2020-06-15', '2020-06-16', '2020-06-17', '2020-06-18', '2020-06-19', '2020-06-20', '2020-06-21', '2020-06-22', '2020-06-23', '2020-06-24', '2020-06-25', '2020-06-26', '2020-06-27', '2020-06-28', '2020-06-29', '2020-06-30', '2020-07-01', '2020-07-02', '2020-07-03', '2020-07-04', '2020-07-05', '2020-07-06', '2020-07-07', '2020-07-08', '2020-07-09', '2020-07-10', '2020-07-11', '2020-07-12', '2020-07-13', '2020-07-14', '2020-07-15', '2020-07-16', '2020-07-17', '2020-07-18', '2020-07-19', '2020-07-20', '2020-07-21', '2020-07-22', '2020-07-23', '2020-07-24', '2020-07-25', '2020-07-26', '2020-07-27', '2020-07-28', '2020-07-29', '2020-07-30', '2020-07-31', '2020-08-01', '2020-08-02', '2020-08-03', '2020-08-04', '2020-08-05', '2020-08-06', '2020-08-07', '2020-08-08', '2020-08-09', '2020-08-10', '2020-08-11', '2020-08-12', '2020-08-13', '2020-08-14', '2020-08-15', '2020-08-16', '2020-08-17', '2020-08-18', '2020-08-19', '2020-08-20', '2020-08-21', '2020-08-22', '2020-08-23', '2020-08-24', '2020-08-25', '2020-08-26', '2020-08-27', '2020-08-28', '2020-08-29', '2020-08-30', '2020-08-31', '2020-09-01', '2020-09-02', '2020-09-03']\n",
            "\n",
            "\n",
            "Column 'new_cases' content:\n",
            "[0.0, 0.0, 0.0, 0.0, 0.0, 0.0, 0.0, 0.0, 0.0, 0.0, 0.0, 0.0, 0.0, 0.0, 0.0, 0.0, 0.0, 0.0, 0.0, 0.0, 0.0, 0.0, 0.0, 0.0, 0.0, 0.0, 0.0, 0.0, 0.0, 0.0, 0.0, 3.0, 0.0, 0.0, 0.0, 0.0, 0.0, 0.0, 0.0, 0.0, 0.0, 0.0, 0.0, 0.0, 0.0, 0.0, 0.0, 0.0, 0.0, 0.0, 0.0, 0.0, 0.0, 14.0, 62.0, 53.0, 97.0, 93.0, 78.0, 250.0, 238.0, 240.0, 561.0, 347.0, 466.0, 587.0, 769.0, 778.0, 1247.0, 1492.0, 1797.0, 977.0, 2313.0, 2651.0, 2547.0, 3497.0, 2823.0, 4000.0, 3526.0, 4207.0, 5322.0, 5986.0, 6557.0, 5560.0, 4789.0, 5249.0, 5210.0, 6153.0, 5959.0, 5974.0, 5217.0, 4050.0, 4053.0, 4782.0, 4668.0, 4585.0, 4805.0, 4316.0, 3599.0, 3039.0, 3836.0, 4204.0, 3951.0, 4694.0, 4092.0, 3153.0, 2972.0, 2667.0, 3786.0, 3493.0, 3491.0, 3047.0, 2256.0, 2729.0, 3370.0, 2646.0, 3021.0, 2357.0, 2324.0, 1739.0, 2091.0, 2086.0, 1872.0, 1965.0, 1900.0, 1389.0, 1221.0, 1075.0, 1444.0, 1401.0, 1327.0, 1083.0, 802.0, 744.0, 1402.0, 888.0, 992.0, 789.0, 875.0, 675.0, 451.0, 813.0, 665.0, 642.0, 652.0, 669.0, 531.0, 300.0, 397.0, 584.0, 593.0, 516.0, 416.0, 355.0, 178.0, 318.0, 321.0, 177.0, 518.0, 270.0, 197.0, 280.0, 283.0, 202.0, 379.0, 163.0, 346.0, 338.0, 301.0, 210.0, 328.0, 331.0, -148.0, 264.0, 224.0, 221.0, 113.0, 577.0, 296.0, 255.0, 175.0, 174.0, 126.0, 142.0, 182.0, 201.0, 223.0, 235.0, 192.0, 208.0, 137.0, 193.0, 214.0, 276.0, 188.0, 234.0, 169.0, 114.0, 162.0, 230.0, 231.0, 249.0, 218.0, 190.0, 128.0, 280.0, 306.0, 252.0, 274.0, 254.0, 168.0, 202.0, 288.0, 382.0, 379.0, 295.0, 238.0, 159.0, 190.0, 384.0, 401.0, 552.0, 347.0, 463.0, 259.0, 412.0, 476.0, 522.0, 574.0, 629.0, 477.0, 320.0, 401.0, 642.0, 840.0, 947.0, 1071.0, 1209.0, 953.0, 876.0, 1366.0, 1409.0, 1460.0, 1444.0, 1365.0, 996.0, 975.0, 1326.0]\n",
            "\n",
            "\n",
            "Column 'new_deaths' content:\n",
            "[0.0, 0.0, 0.0, 0.0, 0.0, 0.0, 0.0, 0.0, 0.0, 0.0, 0.0, 0.0, 0.0, 0.0, 0.0, 0.0, 0.0, 0.0, 0.0, 0.0, 0.0, 0.0, 0.0, 0.0, 0.0, 0.0, 0.0, 0.0, 0.0, 0.0, 0.0, 0.0, 0.0, 0.0, 0.0, 0.0, 0.0, 0.0, 0.0, 0.0, 0.0, 0.0, 0.0, 0.0, 0.0, 0.0, 0.0, 0.0, 0.0, 0.0, 0.0, 0.0, 0.0, 0.0, 2.0, 0.0, 4.0, 5.0, 1.0, 5.0, 4.0, 8.0, 6.0, 17.0, 28.0, 27.0, 41.0, 49.0, 36.0, 133.0, 98.0, 167.0, 196.0, 189.0, 252.0, 173.0, 370.0, 347.0, 347.0, 473.0, 429.0, 625.0, 795.0, 649.0, 601.0, 743.0, 685.0, 660.0, 971.0, 887.0, 758.0, 810.0, 839.0, 727.0, 760.0, 764.0, 681.0, 527.0, 636.0, 604.0, 540.0, 612.0, 570.0, 619.0, 431.0, 564.0, 604.0, 578.0, 525.0, 575.0, 480.0, 433.0, 454.0, 534.0, 437.0, 464.0, 420.0, 415.0, 260.0, 333.0, 382.0, 323.0, 285.0, 269.0, 474.0, 174.0, 195.0, 236.0, 369.0, 274.0, 243.0, 194.0, 165.0, 179.0, 172.0, 195.0, 262.0, 242.0, 153.0, 145.0, 99.0, 162.0, 161.0, 156.0, 130.0, 119.0, 50.0, 92.0, 78.0, 117.0, 70.0, 87.0, 111.0, 75.0, 60.0, 55.0, 71.0, 88.0, 85.0, 72.0, 53.0, 65.0, 79.0, 71.0, 53.0, 56.0, 78.0, 44.0, 26.0, 34.0, 43.0, 66.0, 47.0, 49.0, 24.0, 23.0, 18.0, -31.0, 34.0, 30.0, 8.0, 22.0, 6.0, 23.0, 21.0, 30.0, 15.0, 21.0, 7.0, 8.0, 30.0, 15.0, 12.0, 12.0, 7.0, 9.0, 13.0, 17.0, 13.0, 20.0, 11.0, 14.0, 3.0, 13.0, 15.0, 9.0, 10.0, 5.0, 5.0, 5.0, 5.0, 11.0, 6.0, 3.0, 9.0, 5.0, 8.0, 12.0, 5.0, 10.0, 6.0, 3.0, 13.0, 2.0, 4.0, 6.0, 10.0, 6.0, 3.0, 158.0, 4.0, 4.0, 5.0, 7.0, 6.0, 9.0, 3.0, 7.0, 4.0, 4.0, 13.0, 5.0, 9.0, 1.0, 4.0, 6.0, 8.0, 6.0]\n",
            "\n",
            "\n",
            "Column 'new_tests' content:\n",
            "[nan, nan, nan, nan, nan, nan, nan, nan, nan, nan, nan, nan, nan, nan, nan, nan, nan, nan, nan, nan, nan, nan, nan, nan, nan, nan, nan, nan, nan, nan, nan, nan, nan, nan, nan, nan, nan, nan, nan, nan, nan, nan, nan, nan, nan, nan, nan, nan, nan, nan, nan, nan, nan, nan, nan, nan, nan, nan, nan, nan, nan, nan, nan, nan, nan, nan, nan, nan, nan, nan, nan, nan, nan, nan, nan, nan, nan, nan, nan, nan, nan, nan, nan, nan, nan, nan, nan, nan, nan, nan, nan, nan, nan, nan, nan, nan, nan, nan, nan, nan, nan, nan, nan, nan, nan, nan, nan, nan, nan, nan, nan, 7841.0, 28095.0, 44248.0, 37083.0, 95273.0, 38676.0, 24113.0, 26678.0, 37554.0, 38589.0, 41441.0, 43732.0, 31231.0, 27047.0, 22999.0, 32211.0, 37771.0, 13665.0, 45428.0, 36091.0, 31384.0, 25823.0, 39620.0, 37049.0, 41131.0, 39027.0, 40657.0, 33505.0, 26101.0, 40226.0, 38617.0, 40644.0, 42987.0, 42579.0, 34206.0, 20676.0, 33944.0, 37299.0, 39838.0, 38233.0, 36051.0, 28948.0, 18053.0, 25628.0, 20035.0, 27451.0, 40470.0, 34036.0, 27894.0, 16301.0, 32200.0, 37865.0, 32991.0, 37651.0, 32880.0, 29545.0, 17463.0, 27762.0, 33957.0, 32921.0, 28570.0, 29875.0, 24581.0, 16152.0, 23225.0, 30237.0, 29421.0, 28331.0, 29721.0, 21183.0, 15484.0, 28471.0, 29325.0, 29147.0, 25680.0, 28946.0, 21166.0, 13771.0, 22490.0, 28679.0, 29947.0, 27251.0, 25449.0, 23061.0, 14006.0, 24222.0, 28392.0, 28089.0, 28661.0, 27569.0, 20621.0, 14121.0, 23915.0, 29288.0, 33018.0, 28970.0, 28059.0, 25177.0, 19374.0, 25341.0, 30875.0, 33396.0, 29686.0, 31905.0, 24496.0, 13467.0, 23491.0, 29739.0, 32169.0, 30392.0, 26631.0, 22773.0, 10904.0, 22063.0, 27330.0, 25629.0, 24868.0, 25937.0, 22470.0, 21379.0, 32687.0, 41290.0, 49662.0, 44943.0, 46613.0, 47463.0, 33358.0, 45798.0, 58054.0, 57640.0, 65135.0, 64294.0, 53541.0, 42583.0, 54395.0, nan, nan]\n",
            "\n",
            "\n"
          ]
        }
      ],
      "source": [
        "data_top = df.head(0)\n",
        "for c in data_top:\n",
        "    print(f\"Column '{c}' content:\\n{df[c].tolist()}\")\n",
        "    print('\\n')"
      ]
    },
    {
      "cell_type": "markdown",
      "metadata": {
        "id": "Ph4TLqUccEz4"
      },
      "source": [
        "Return only the days which had more than 1000 reported cases."
      ]
    },
    {
      "cell_type": "code",
      "execution_count": null,
      "metadata": {
        "id": "shN2sTU7cEz4",
        "outputId": "4f34bd05-d4c1-44e0-91bd-59b59323ab31"
      },
      "outputs": [
        {
          "data": {
            "text/html": [
              "<div>\n",
              "<style scoped>\n",
              "    .dataframe tbody tr th:only-of-type {\n",
              "        vertical-align: middle;\n",
              "    }\n",
              "\n",
              "    .dataframe tbody tr th {\n",
              "        vertical-align: top;\n",
              "    }\n",
              "\n",
              "    .dataframe thead th {\n",
              "        text-align: right;\n",
              "    }\n",
              "</style>\n",
              "<table border=\"1\" class=\"dataframe\">\n",
              "  <thead>\n",
              "    <tr style=\"text-align: right;\">\n",
              "      <th></th>\n",
              "      <th>date</th>\n",
              "      <th>new_cases</th>\n",
              "    </tr>\n",
              "  </thead>\n",
              "  <tbody>\n",
              "    <tr>\n",
              "      <th>68</th>\n",
              "      <td>2020-03-08</td>\n",
              "      <td>1247.0</td>\n",
              "    </tr>\n",
              "    <tr>\n",
              "      <th>69</th>\n",
              "      <td>2020-03-09</td>\n",
              "      <td>1492.0</td>\n",
              "    </tr>\n",
              "    <tr>\n",
              "      <th>70</th>\n",
              "      <td>2020-03-10</td>\n",
              "      <td>1797.0</td>\n",
              "    </tr>\n",
              "    <tr>\n",
              "      <th>72</th>\n",
              "      <td>2020-03-12</td>\n",
              "      <td>2313.0</td>\n",
              "    </tr>\n",
              "    <tr>\n",
              "      <th>73</th>\n",
              "      <td>2020-03-13</td>\n",
              "      <td>2651.0</td>\n",
              "    </tr>\n",
              "    <tr>\n",
              "      <th>...</th>\n",
              "      <td>...</td>\n",
              "      <td>...</td>\n",
              "    </tr>\n",
              "    <tr>\n",
              "      <th>241</th>\n",
              "      <td>2020-08-28</td>\n",
              "      <td>1409.0</td>\n",
              "    </tr>\n",
              "    <tr>\n",
              "      <th>242</th>\n",
              "      <td>2020-08-29</td>\n",
              "      <td>1460.0</td>\n",
              "    </tr>\n",
              "    <tr>\n",
              "      <th>243</th>\n",
              "      <td>2020-08-30</td>\n",
              "      <td>1444.0</td>\n",
              "    </tr>\n",
              "    <tr>\n",
              "      <th>244</th>\n",
              "      <td>2020-08-31</td>\n",
              "      <td>1365.0</td>\n",
              "    </tr>\n",
              "    <tr>\n",
              "      <th>247</th>\n",
              "      <td>2020-09-03</td>\n",
              "      <td>1326.0</td>\n",
              "    </tr>\n",
              "  </tbody>\n",
              "</table>\n",
              "<p>72 rows × 2 columns</p>\n",
              "</div>"
            ],
            "text/plain": [
              "           date  new_cases\n",
              "68   2020-03-08     1247.0\n",
              "69   2020-03-09     1492.0\n",
              "70   2020-03-10     1797.0\n",
              "72   2020-03-12     2313.0\n",
              "73   2020-03-13     2651.0\n",
              "..          ...        ...\n",
              "241  2020-08-28     1409.0\n",
              "242  2020-08-29     1460.0\n",
              "243  2020-08-30     1444.0\n",
              "244  2020-08-31     1365.0\n",
              "247  2020-09-03     1326.0\n",
              "\n",
              "[72 rows x 2 columns]"
            ]
          },
          "execution_count": 195,
          "metadata": {},
          "output_type": "execute_result"
        }
      ],
      "source": [
        "cases_count_thres = 1000\n",
        "modified_df = df[['date', 'new_cases']].loc[df['new_cases'] > cases_count_thres]\n",
        "modified_df"
      ]
    },
    {
      "cell_type": "markdown",
      "metadata": {
        "id": "Sre_WT4ecEz4"
      },
      "source": [
        "Create positive_rate column that is equal to new_cases / new_tests."
      ]
    },
    {
      "cell_type": "code",
      "execution_count": null,
      "metadata": {
        "id": "5VNsHoxycEz4",
        "outputId": "1ea17456-aae5-49c6-fb50-7621093657f0"
      },
      "outputs": [
        {
          "data": {
            "text/html": [
              "<div>\n",
              "<style scoped>\n",
              "    .dataframe tbody tr th:only-of-type {\n",
              "        vertical-align: middle;\n",
              "    }\n",
              "\n",
              "    .dataframe tbody tr th {\n",
              "        vertical-align: top;\n",
              "    }\n",
              "\n",
              "    .dataframe thead th {\n",
              "        text-align: right;\n",
              "    }\n",
              "</style>\n",
              "<table border=\"1\" class=\"dataframe\">\n",
              "  <thead>\n",
              "    <tr style=\"text-align: right;\">\n",
              "      <th></th>\n",
              "      <th>date</th>\n",
              "      <th>new_cases</th>\n",
              "      <th>new_deaths</th>\n",
              "      <th>new_tests</th>\n",
              "      <th>positive_rate</th>\n",
              "    </tr>\n",
              "  </thead>\n",
              "  <tbody>\n",
              "    <tr>\n",
              "      <th>0</th>\n",
              "      <td>2019-12-31</td>\n",
              "      <td>0.0</td>\n",
              "      <td>0.0</td>\n",
              "      <td>NaN</td>\n",
              "      <td>NaN</td>\n",
              "    </tr>\n",
              "    <tr>\n",
              "      <th>1</th>\n",
              "      <td>2020-01-01</td>\n",
              "      <td>0.0</td>\n",
              "      <td>0.0</td>\n",
              "      <td>NaN</td>\n",
              "      <td>NaN</td>\n",
              "    </tr>\n",
              "    <tr>\n",
              "      <th>2</th>\n",
              "      <td>2020-01-02</td>\n",
              "      <td>0.0</td>\n",
              "      <td>0.0</td>\n",
              "      <td>NaN</td>\n",
              "      <td>NaN</td>\n",
              "    </tr>\n",
              "    <tr>\n",
              "      <th>3</th>\n",
              "      <td>2020-01-03</td>\n",
              "      <td>0.0</td>\n",
              "      <td>0.0</td>\n",
              "      <td>NaN</td>\n",
              "      <td>NaN</td>\n",
              "    </tr>\n",
              "    <tr>\n",
              "      <th>4</th>\n",
              "      <td>2020-01-04</td>\n",
              "      <td>0.0</td>\n",
              "      <td>0.0</td>\n",
              "      <td>NaN</td>\n",
              "      <td>NaN</td>\n",
              "    </tr>\n",
              "    <tr>\n",
              "      <th>...</th>\n",
              "      <td>...</td>\n",
              "      <td>...</td>\n",
              "      <td>...</td>\n",
              "      <td>...</td>\n",
              "      <td>...</td>\n",
              "    </tr>\n",
              "    <tr>\n",
              "      <th>243</th>\n",
              "      <td>2020-08-30</td>\n",
              "      <td>1444.0</td>\n",
              "      <td>1.0</td>\n",
              "      <td>53541.0</td>\n",
              "      <td>0.026970</td>\n",
              "    </tr>\n",
              "    <tr>\n",
              "      <th>244</th>\n",
              "      <td>2020-08-31</td>\n",
              "      <td>1365.0</td>\n",
              "      <td>4.0</td>\n",
              "      <td>42583.0</td>\n",
              "      <td>0.032055</td>\n",
              "    </tr>\n",
              "    <tr>\n",
              "      <th>245</th>\n",
              "      <td>2020-09-01</td>\n",
              "      <td>996.0</td>\n",
              "      <td>6.0</td>\n",
              "      <td>54395.0</td>\n",
              "      <td>0.018311</td>\n",
              "    </tr>\n",
              "    <tr>\n",
              "      <th>246</th>\n",
              "      <td>2020-09-02</td>\n",
              "      <td>975.0</td>\n",
              "      <td>8.0</td>\n",
              "      <td>NaN</td>\n",
              "      <td>NaN</td>\n",
              "    </tr>\n",
              "    <tr>\n",
              "      <th>247</th>\n",
              "      <td>2020-09-03</td>\n",
              "      <td>1326.0</td>\n",
              "      <td>6.0</td>\n",
              "      <td>NaN</td>\n",
              "      <td>NaN</td>\n",
              "    </tr>\n",
              "  </tbody>\n",
              "</table>\n",
              "<p>248 rows × 5 columns</p>\n",
              "</div>"
            ],
            "text/plain": [
              "           date  new_cases  new_deaths  new_tests  positive_rate\n",
              "0    2019-12-31        0.0         0.0        NaN            NaN\n",
              "1    2020-01-01        0.0         0.0        NaN            NaN\n",
              "2    2020-01-02        0.0         0.0        NaN            NaN\n",
              "3    2020-01-03        0.0         0.0        NaN            NaN\n",
              "4    2020-01-04        0.0         0.0        NaN            NaN\n",
              "..          ...        ...         ...        ...            ...\n",
              "243  2020-08-30     1444.0         1.0    53541.0       0.026970\n",
              "244  2020-08-31     1365.0         4.0    42583.0       0.032055\n",
              "245  2020-09-01      996.0         6.0    54395.0       0.018311\n",
              "246  2020-09-02      975.0         8.0        NaN            NaN\n",
              "247  2020-09-03     1326.0         6.0        NaN            NaN\n",
              "\n",
              "[248 rows x 5 columns]"
            ]
          },
          "execution_count": 196,
          "metadata": {},
          "output_type": "execute_result"
        }
      ],
      "source": [
        "df['positive_rate'] = df['new_cases'] / df['new_tests']\n",
        "df"
      ]
    },
    {
      "cell_type": "markdown",
      "metadata": {
        "id": "VgPKChcTcEz4"
      },
      "source": [
        "Let's remove the positive_rate column·"
      ]
    },
    {
      "cell_type": "code",
      "execution_count": null,
      "metadata": {
        "id": "IJ25Y1cEcEz4",
        "outputId": "4a3b897d-04a4-4c1b-bc1e-bc1ccea8c309"
      },
      "outputs": [
        {
          "data": {
            "text/html": [
              "<div>\n",
              "<style scoped>\n",
              "    .dataframe tbody tr th:only-of-type {\n",
              "        vertical-align: middle;\n",
              "    }\n",
              "\n",
              "    .dataframe tbody tr th {\n",
              "        vertical-align: top;\n",
              "    }\n",
              "\n",
              "    .dataframe thead th {\n",
              "        text-align: right;\n",
              "    }\n",
              "</style>\n",
              "<table border=\"1\" class=\"dataframe\">\n",
              "  <thead>\n",
              "    <tr style=\"text-align: right;\">\n",
              "      <th></th>\n",
              "      <th>date</th>\n",
              "      <th>new_cases</th>\n",
              "      <th>new_deaths</th>\n",
              "      <th>new_tests</th>\n",
              "    </tr>\n",
              "  </thead>\n",
              "  <tbody>\n",
              "    <tr>\n",
              "      <th>0</th>\n",
              "      <td>2019-12-31</td>\n",
              "      <td>0.0</td>\n",
              "      <td>0.0</td>\n",
              "      <td>NaN</td>\n",
              "    </tr>\n",
              "    <tr>\n",
              "      <th>1</th>\n",
              "      <td>2020-01-01</td>\n",
              "      <td>0.0</td>\n",
              "      <td>0.0</td>\n",
              "      <td>NaN</td>\n",
              "    </tr>\n",
              "    <tr>\n",
              "      <th>2</th>\n",
              "      <td>2020-01-02</td>\n",
              "      <td>0.0</td>\n",
              "      <td>0.0</td>\n",
              "      <td>NaN</td>\n",
              "    </tr>\n",
              "    <tr>\n",
              "      <th>3</th>\n",
              "      <td>2020-01-03</td>\n",
              "      <td>0.0</td>\n",
              "      <td>0.0</td>\n",
              "      <td>NaN</td>\n",
              "    </tr>\n",
              "    <tr>\n",
              "      <th>4</th>\n",
              "      <td>2020-01-04</td>\n",
              "      <td>0.0</td>\n",
              "      <td>0.0</td>\n",
              "      <td>NaN</td>\n",
              "    </tr>\n",
              "    <tr>\n",
              "      <th>...</th>\n",
              "      <td>...</td>\n",
              "      <td>...</td>\n",
              "      <td>...</td>\n",
              "      <td>...</td>\n",
              "    </tr>\n",
              "    <tr>\n",
              "      <th>243</th>\n",
              "      <td>2020-08-30</td>\n",
              "      <td>1444.0</td>\n",
              "      <td>1.0</td>\n",
              "      <td>53541.0</td>\n",
              "    </tr>\n",
              "    <tr>\n",
              "      <th>244</th>\n",
              "      <td>2020-08-31</td>\n",
              "      <td>1365.0</td>\n",
              "      <td>4.0</td>\n",
              "      <td>42583.0</td>\n",
              "    </tr>\n",
              "    <tr>\n",
              "      <th>245</th>\n",
              "      <td>2020-09-01</td>\n",
              "      <td>996.0</td>\n",
              "      <td>6.0</td>\n",
              "      <td>54395.0</td>\n",
              "    </tr>\n",
              "    <tr>\n",
              "      <th>246</th>\n",
              "      <td>2020-09-02</td>\n",
              "      <td>975.0</td>\n",
              "      <td>8.0</td>\n",
              "      <td>NaN</td>\n",
              "    </tr>\n",
              "    <tr>\n",
              "      <th>247</th>\n",
              "      <td>2020-09-03</td>\n",
              "      <td>1326.0</td>\n",
              "      <td>6.0</td>\n",
              "      <td>NaN</td>\n",
              "    </tr>\n",
              "  </tbody>\n",
              "</table>\n",
              "<p>248 rows × 4 columns</p>\n",
              "</div>"
            ],
            "text/plain": [
              "           date  new_cases  new_deaths  new_tests\n",
              "0    2019-12-31        0.0         0.0        NaN\n",
              "1    2020-01-01        0.0         0.0        NaN\n",
              "2    2020-01-02        0.0         0.0        NaN\n",
              "3    2020-01-03        0.0         0.0        NaN\n",
              "4    2020-01-04        0.0         0.0        NaN\n",
              "..          ...        ...         ...        ...\n",
              "243  2020-08-30     1444.0         1.0    53541.0\n",
              "244  2020-08-31     1365.0         4.0    42583.0\n",
              "245  2020-09-01      996.0         6.0    54395.0\n",
              "246  2020-09-02      975.0         8.0        NaN\n",
              "247  2020-09-03     1326.0         6.0        NaN\n",
              "\n",
              "[248 rows x 4 columns]"
            ]
          },
          "execution_count": 197,
          "metadata": {},
          "output_type": "execute_result"
        }
      ],
      "source": [
        "df.drop(columns='positive_rate', inplace=True)\n",
        "df"
      ]
    },
    {
      "cell_type": "markdown",
      "metadata": {
        "id": "SZLNYspjcEz5"
      },
      "source": [
        "Sort to identify the days with the highest number of cases."
      ]
    },
    {
      "cell_type": "code",
      "execution_count": null,
      "metadata": {
        "id": "W_8YJ05AcEz5",
        "outputId": "78ea3b5d-5dbc-4651-8224-8a15cffb2a48"
      },
      "outputs": [
        {
          "data": {
            "text/html": [
              "<div>\n",
              "<style scoped>\n",
              "    .dataframe tbody tr th:only-of-type {\n",
              "        vertical-align: middle;\n",
              "    }\n",
              "\n",
              "    .dataframe tbody tr th {\n",
              "        vertical-align: top;\n",
              "    }\n",
              "\n",
              "    .dataframe thead th {\n",
              "        text-align: right;\n",
              "    }\n",
              "</style>\n",
              "<table border=\"1\" class=\"dataframe\">\n",
              "  <thead>\n",
              "    <tr style=\"text-align: right;\">\n",
              "      <th></th>\n",
              "      <th>date</th>\n",
              "      <th>new_cases</th>\n",
              "      <th>new_deaths</th>\n",
              "      <th>new_tests</th>\n",
              "    </tr>\n",
              "  </thead>\n",
              "  <tbody>\n",
              "    <tr>\n",
              "      <th>82</th>\n",
              "      <td>2020-03-22</td>\n",
              "      <td>6557.0</td>\n",
              "      <td>795.0</td>\n",
              "      <td>NaN</td>\n",
              "    </tr>\n",
              "    <tr>\n",
              "      <th>87</th>\n",
              "      <td>2020-03-27</td>\n",
              "      <td>6153.0</td>\n",
              "      <td>660.0</td>\n",
              "      <td>NaN</td>\n",
              "    </tr>\n",
              "    <tr>\n",
              "      <th>81</th>\n",
              "      <td>2020-03-21</td>\n",
              "      <td>5986.0</td>\n",
              "      <td>625.0</td>\n",
              "      <td>NaN</td>\n",
              "    </tr>\n",
              "    <tr>\n",
              "      <th>89</th>\n",
              "      <td>2020-03-29</td>\n",
              "      <td>5974.0</td>\n",
              "      <td>887.0</td>\n",
              "      <td>NaN</td>\n",
              "    </tr>\n",
              "    <tr>\n",
              "      <th>88</th>\n",
              "      <td>2020-03-28</td>\n",
              "      <td>5959.0</td>\n",
              "      <td>971.0</td>\n",
              "      <td>NaN</td>\n",
              "    </tr>\n",
              "    <tr>\n",
              "      <th>...</th>\n",
              "      <td>...</td>\n",
              "      <td>...</td>\n",
              "      <td>...</td>\n",
              "      <td>...</td>\n",
              "    </tr>\n",
              "    <tr>\n",
              "      <th>28</th>\n",
              "      <td>2020-01-28</td>\n",
              "      <td>0.0</td>\n",
              "      <td>0.0</td>\n",
              "      <td>NaN</td>\n",
              "    </tr>\n",
              "    <tr>\n",
              "      <th>30</th>\n",
              "      <td>2020-01-30</td>\n",
              "      <td>0.0</td>\n",
              "      <td>0.0</td>\n",
              "      <td>NaN</td>\n",
              "    </tr>\n",
              "    <tr>\n",
              "      <th>32</th>\n",
              "      <td>2020-02-01</td>\n",
              "      <td>0.0</td>\n",
              "      <td>0.0</td>\n",
              "      <td>NaN</td>\n",
              "    </tr>\n",
              "    <tr>\n",
              "      <th>33</th>\n",
              "      <td>2020-02-02</td>\n",
              "      <td>0.0</td>\n",
              "      <td>0.0</td>\n",
              "      <td>NaN</td>\n",
              "    </tr>\n",
              "    <tr>\n",
              "      <th>172</th>\n",
              "      <td>2020-06-20</td>\n",
              "      <td>-148.0</td>\n",
              "      <td>47.0</td>\n",
              "      <td>29875.0</td>\n",
              "    </tr>\n",
              "  </tbody>\n",
              "</table>\n",
              "<p>248 rows × 4 columns</p>\n",
              "</div>"
            ],
            "text/plain": [
              "           date  new_cases  new_deaths  new_tests\n",
              "82   2020-03-22     6557.0       795.0        NaN\n",
              "87   2020-03-27     6153.0       660.0        NaN\n",
              "81   2020-03-21     5986.0       625.0        NaN\n",
              "89   2020-03-29     5974.0       887.0        NaN\n",
              "88   2020-03-28     5959.0       971.0        NaN\n",
              "..          ...        ...         ...        ...\n",
              "28   2020-01-28        0.0         0.0        NaN\n",
              "30   2020-01-30        0.0         0.0        NaN\n",
              "32   2020-02-01        0.0         0.0        NaN\n",
              "33   2020-02-02        0.0         0.0        NaN\n",
              "172  2020-06-20     -148.0        47.0    29875.0\n",
              "\n",
              "[248 rows x 4 columns]"
            ]
          },
          "execution_count": 198,
          "metadata": {},
          "output_type": "execute_result"
        }
      ],
      "source": [
        "desc_df = df.sort_values('new_cases',ascending=False)\n",
        "desc_df"
      ]
    },
    {
      "cell_type": "markdown",
      "metadata": {
        "id": "2wCqK1wNcEz5"
      },
      "source": [
        "Check the data type of date column, then convert it into a datetime."
      ]
    },
    {
      "cell_type": "code",
      "execution_count": null,
      "metadata": {
        "id": "B_IlH-eEcEz5",
        "outputId": "23c79b7c-98dc-4f1f-dcc6-178d3e44306a"
      },
      "outputs": [
        {
          "name": "stdout",
          "output_type": "stream",
          "text": [
            "Before: object\n",
            "After: datetime64[ns]\n"
          ]
        }
      ],
      "source": [
        "print(\"Before:\", df['date'].dtypes)\n",
        "df['date']= pd.to_datetime(df['date'])\n",
        "print(\"After:\", df['date'].dtypes)"
      ]
    },
    {
      "cell_type": "markdown",
      "metadata": {
        "id": "Mqhq-gUucEz6"
      },
      "source": [
        "Extract different parts (day, month, weekday, and year) of the date column into separate columns."
      ]
    },
    {
      "cell_type": "code",
      "execution_count": null,
      "metadata": {
        "id": "juIoCE5GcEz6",
        "outputId": "a9068a58-0e24-4de2-e792-98a25437c389"
      },
      "outputs": [
        {
          "name": "stdout",
          "output_type": "stream",
          "text": [
            "          date  new_cases  new_deaths  new_tests  year  month  day   day_name\n",
            "0   2019-12-31        0.0         0.0        NaN  2019     12   31    Tuesday\n",
            "1   2020-01-01        0.0         0.0        NaN  2020      1    1  Wednesday\n",
            "2   2020-01-02        0.0         0.0        NaN  2020      1    2   Thursday\n",
            "3   2020-01-03        0.0         0.0        NaN  2020      1    3     Friday\n",
            "4   2020-01-04        0.0         0.0        NaN  2020      1    4   Saturday\n",
            "..         ...        ...         ...        ...   ...    ...  ...        ...\n",
            "243 2020-08-30     1444.0         1.0    53541.0  2020      8   30     Sunday\n",
            "244 2020-08-31     1365.0         4.0    42583.0  2020      8   31     Monday\n",
            "245 2020-09-01      996.0         6.0    54395.0  2020      9    1    Tuesday\n",
            "246 2020-09-02      975.0         8.0        NaN  2020      9    2  Wednesday\n",
            "247 2020-09-03     1326.0         6.0        NaN  2020      9    3   Thursday\n",
            "\n",
            "[248 rows x 8 columns]\n"
          ]
        }
      ],
      "source": [
        "df['year'] = df['date'].dt.year\n",
        "df['month'] = df['date'].dt.month\n",
        "df['day'] = df['date'].dt.day\n",
        "df['day_name'] = df['date'].dt.day_name()\n",
        "print(df)"
      ]
    },
    {
      "cell_type": "markdown",
      "metadata": {
        "id": "MFau1tJTcEz6"
      },
      "source": [
        "Check the overall metrics for may (I.E, the total numbers of 'new_cases', 'new_deaths', 'new_tests')."
      ]
    },
    {
      "cell_type": "code",
      "execution_count": null,
      "metadata": {
        "id": "0KAAoHr1cEz6",
        "outputId": "bf1cf0e2-f7f0-41d8-bd81-08ed11f576ee"
      },
      "outputs": [
        {
          "data": {
            "text/html": [
              "<div>\n",
              "<style scoped>\n",
              "    .dataframe tbody tr th:only-of-type {\n",
              "        vertical-align: middle;\n",
              "    }\n",
              "\n",
              "    .dataframe tbody tr th {\n",
              "        vertical-align: top;\n",
              "    }\n",
              "\n",
              "    .dataframe thead th {\n",
              "        text-align: right;\n",
              "    }\n",
              "</style>\n",
              "<table border=\"1\" class=\"dataframe\">\n",
              "  <thead>\n",
              "    <tr style=\"text-align: right;\">\n",
              "      <th></th>\n",
              "      <th>new_cases</th>\n",
              "      <th>new_deaths</th>\n",
              "      <th>new_tests</th>\n",
              "      <th>month</th>\n",
              "      <th>year</th>\n",
              "    </tr>\n",
              "  </thead>\n",
              "  <tbody>\n",
              "    <tr>\n",
              "      <th>count</th>\n",
              "      <td>31.000000</td>\n",
              "      <td>31.000000</td>\n",
              "      <td>31.000000</td>\n",
              "      <td>31.0</td>\n",
              "      <td>31.0</td>\n",
              "    </tr>\n",
              "    <tr>\n",
              "      <th>mean</th>\n",
              "      <td>937.838710</td>\n",
              "      <td>182.516129</td>\n",
              "      <td>34797.419355</td>\n",
              "      <td>5.0</td>\n",
              "      <td>2020.0</td>\n",
              "    </tr>\n",
              "    <tr>\n",
              "      <th>std</th>\n",
              "      <td>458.224843</td>\n",
              "      <td>91.088188</td>\n",
              "      <td>7403.552952</td>\n",
              "      <td>0.0</td>\n",
              "      <td>0.0</td>\n",
              "    </tr>\n",
              "    <tr>\n",
              "      <th>min</th>\n",
              "      <td>300.000000</td>\n",
              "      <td>50.000000</td>\n",
              "      <td>13665.000000</td>\n",
              "      <td>5.0</td>\n",
              "      <td>2020.0</td>\n",
              "    </tr>\n",
              "    <tr>\n",
              "      <th>25%</th>\n",
              "      <td>617.500000</td>\n",
              "      <td>118.000000</td>\n",
              "      <td>31307.500000</td>\n",
              "      <td>5.0</td>\n",
              "      <td>2020.0</td>\n",
              "    </tr>\n",
              "    <tr>\n",
              "      <th>50%</th>\n",
              "      <td>802.000000</td>\n",
              "      <td>165.000000</td>\n",
              "      <td>37049.000000</td>\n",
              "      <td>5.0</td>\n",
              "      <td>2020.0</td>\n",
              "    </tr>\n",
              "    <tr>\n",
              "      <th>75%</th>\n",
              "      <td>1274.000000</td>\n",
              "      <td>239.000000</td>\n",
              "      <td>40032.000000</td>\n",
              "      <td>5.0</td>\n",
              "      <td>2020.0</td>\n",
              "    </tr>\n",
              "    <tr>\n",
              "      <th>max</th>\n",
              "      <td>1965.000000</td>\n",
              "      <td>474.000000</td>\n",
              "      <td>45428.000000</td>\n",
              "      <td>5.0</td>\n",
              "      <td>2020.0</td>\n",
              "    </tr>\n",
              "  </tbody>\n",
              "</table>\n",
              "</div>"
            ],
            "text/plain": [
              "         new_cases  new_deaths     new_tests  month    year\n",
              "count    31.000000   31.000000     31.000000   31.0    31.0\n",
              "mean    937.838710  182.516129  34797.419355    5.0  2020.0\n",
              "std     458.224843   91.088188   7403.552952    0.0     0.0\n",
              "min     300.000000   50.000000  13665.000000    5.0  2020.0\n",
              "25%     617.500000  118.000000  31307.500000    5.0  2020.0\n",
              "50%     802.000000  165.000000  37049.000000    5.0  2020.0\n",
              "75%    1274.000000  239.000000  40032.000000    5.0  2020.0\n",
              "max    1965.000000  474.000000  45428.000000    5.0  2020.0"
            ]
          },
          "execution_count": 201,
          "metadata": {},
          "output_type": "execute_result"
        }
      ],
      "source": [
        "month_tocheck = 5\n",
        "modified_df = df[['new_cases', 'new_deaths', 'new_tests', 'month', 'year']].loc[df['month'] == month_tocheck]\n",
        "modified_df.describe()"
      ]
    },
    {
      "cell_type": "markdown",
      "metadata": {
        "id": "AbRqRPitcEz7"
      },
      "source": [
        "Which day seems like have more cases?."
      ]
    },
    {
      "cell_type": "code",
      "execution_count": null,
      "metadata": {
        "id": "YBUjPhmHcEz7",
        "outputId": "be080fe9-5d77-46c1-c15a-2110fd6cb88e"
      },
      "outputs": [
        {
          "data": {
            "text/plain": [
              "date\n",
              "Sunday    43654.0\n",
              "Name: new_cases, dtype: float64"
            ]
          },
          "execution_count": 202,
          "metadata": {},
          "output_type": "execute_result"
        }
      ],
      "source": [
        "modified_df = df.groupby(df['date'].dt.day_name())['new_cases'].sum().sort_values()\n",
        "modified_df.iloc[-1:]"
      ]
    },
    {
      "cell_type": "markdown",
      "metadata": {
        "id": "xPB1B-_acEz7"
      },
      "source": [
        "Create a new dataframe with month-wise data."
      ]
    },
    {
      "cell_type": "code",
      "execution_count": null,
      "metadata": {
        "id": "VU5v86KRcEz7",
        "outputId": "d10c49d3-69ea-4483-c2f3-e7ed1a9e9335"
      },
      "outputs": [
        {
          "data": {
            "text/plain": [
              "date\n",
              "December          0.0\n",
              "January           3.0\n",
              "February        885.0\n",
              "September      3297.0\n",
              "July           6722.0\n",
              "June           7772.0\n",
              "August        21060.0\n",
              "May           29073.0\n",
              "March        100851.0\n",
              "April        101852.0\n",
              "Name: new_cases, dtype: float64"
            ]
          },
          "execution_count": 203,
          "metadata": {},
          "output_type": "execute_result"
        }
      ],
      "source": [
        "df.groupby(df['date'].dt.strftime('%B'))['new_cases'].sum().sort_values()"
      ]
    },
    {
      "cell_type": "markdown",
      "metadata": {
        "id": "Up9aj4YVcEz7"
      },
      "source": [
        "Plot a line graph showing how the number of daily cases varies over time."
      ]
    },
    {
      "cell_type": "code",
      "execution_count": null,
      "metadata": {
        "id": "-3rwuRPOcEz8",
        "outputId": "7fd5f147-b5e3-45e6-a642-06d83e17ba2b"
      },
      "outputs": [
        {
          "data": {
            "image/png": "[encoded data removed]",
            "text/plain": [
              "<Figure size 640x480 with 1 Axes>"
            ]
          },
          "metadata": {},
          "output_type": "display_data"
        }
      ],
      "source": [
        "lineplot = df['new_cases'].plot.line()"
      ]
    }
  ]
}